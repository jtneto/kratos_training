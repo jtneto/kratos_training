{
 "cells": [
  {
   "cell_type": "markdown",
   "id": "1f82f16f-9454-43f2-8d54-3432813005e4",
   "metadata": {},
   "source": [
    "## Import modules"
   ]
  },
  {
   "cell_type": "code",
   "execution_count": 1,
   "id": "1d955e92-f7af-4a7c-b609-a09aa720e533",
   "metadata": {
    "tags": []
   },
   "outputs": [],
   "source": [
    "import numpy as np\n",
    "import matplotlib.pyplot as plt\n",
    "    \n",
    "from sklearn.linear_model import RidgeCV # maybe used for GCV, as per the documentation"
   ]
  },
  {
   "cell_type": "markdown",
   "id": "ffc0df9d-f783-425b-ae41-87b1c01a0c81",
   "metadata": {},
   "source": [
    "## Algorithm\n",
    "\n",
    "**Input**: \n",
    "\n",
    "- S = Solution snaptshot matrix S (NxNs)\n",
    "- e_s = Tolerance\n",
    "- zeta = Correction factor\n",
    "- param = Regularization parameter alpha* or parameter w\n",
    "- u_ref = Reference solution"
   ]
  },
  {
   "cell_type": "code",
   "execution_count": 2,
   "id": "9ac60e73-95b4-4741-9c93-f0e64428bf49",
   "metadata": {
    "tags": []
   },
   "outputs": [],
   "source": [
    "# Loads the FOM Snapshots as the matrix S\n",
    "S = np.load('fom_snapshots.npy')"
   ]
  },
  {
   "cell_type": "code",
   "execution_count": 3,
   "id": "d9677152-5dc9-4241-80b7-a4219a291381",
   "metadata": {
    "tags": []
   },
   "outputs": [
    {
     "data": {
      "text/plain": [
       "(9216, 450)"
      ]
     },
     "execution_count": 3,
     "metadata": {},
     "output_type": "execute_result"
    }
   ],
   "source": [
    "S.shape\n",
    "# N = 9216\n",
    "# Ns = 450"
   ]
  },
  {
   "cell_type": "code",
   "execution_count": 4,
   "id": "15c3bf95-3f61-4e90-ba77-6c56b52ce21d",
   "metadata": {
    "tags": []
   },
   "outputs": [],
   "source": [
    "N = S.shape[0] \n",
    "Ns = S.shape[1]"
   ]
  },
  {
   "cell_type": "code",
   "execution_count": 5,
   "id": "e20843b7-79f4-450d-a02d-963635ed66f0",
   "metadata": {
    "tags": []
   },
   "outputs": [],
   "source": [
    "e_s = 1e-4 # used to get a somewhat lower n_tra. Tried 1e-7, but then Ns > n(n+1)/2 wouldn't verify"
   ]
  },
  {
   "cell_type": "code",
   "execution_count": 6,
   "id": "8436c8d0-0ebb-4d57-87a1-93551ac0230e",
   "metadata": {
    "tags": []
   },
   "outputs": [],
   "source": [
    "zeta = 0.15 # following the paper"
   ]
  },
  {
   "cell_type": "code",
   "execution_count": 7,
   "id": "d23642ef-0913-4a40-8e0a-e1910678ebac",
   "metadata": {
    "tags": []
   },
   "outputs": [],
   "source": [
    "omega = 0.1 # again following the paper. Is this a guess?"
   ]
  },
  {
   "cell_type": "code",
   "execution_count": 8,
   "id": "bd75f204-2aca-4977-8234-7846b56fd4df",
   "metadata": {
    "tags": []
   },
   "outputs": [],
   "source": [
    "u_ref = 0 # i imagine a referece solution would be u(0) = 0, is this the case?"
   ]
  },
  {
   "cell_type": "code",
   "execution_count": 43,
   "id": "ba533ae4-5d06-450a-91e7-4009a6fa9546",
   "metadata": {
    "tags": []
   },
   "outputs": [],
   "source": [
    "# Thin SVD of S\n",
    "US, SigmaS, YsT = np.linalg.svd(S, full_matrices=False)"
   ]
  },
  {
   "cell_type": "code",
   "execution_count": 44,
   "id": "8d6c0a3c-be36-448e-adc0-41af1644aab9",
   "metadata": {
    "tags": []
   },
   "outputs": [
    {
     "data": {
      "text/plain": [
       "(9216, 450)"
      ]
     },
     "execution_count": 44,
     "metadata": {},
     "output_type": "execute_result"
    }
   ],
   "source": [
    "US.shape"
   ]
  },
  {
   "cell_type": "code",
   "execution_count": 45,
   "id": "a87a1b04-3ab1-46f8-b131-e91a7355ce25",
   "metadata": {
    "tags": []
   },
   "outputs": [
    {
     "data": {
      "text/plain": [
       "(450,)"
      ]
     },
     "execution_count": 45,
     "metadata": {},
     "output_type": "execute_result"
    }
   ],
   "source": [
    "SigmaS.shape"
   ]
  },
  {
   "cell_type": "code",
   "execution_count": 46,
   "id": "002524b4-3d93-4c4a-93ec-e6e387040c0d",
   "metadata": {
    "tags": []
   },
   "outputs": [
    {
     "data": {
      "text/plain": [
       "(450, 450)"
      ]
     },
     "execution_count": 46,
     "metadata": {},
     "output_type": "execute_result"
    }
   ],
   "source": [
    "YsT.shape # Already Transposed ?"
   ]
  },
  {
   "cell_type": "code",
   "execution_count": 47,
   "id": "db5e7515-4a0a-40e9-8b1c-426c5ab03fc6",
   "metadata": {
    "tags": []
   },
   "outputs": [
    {
     "name": "stdout",
     "output_type": "stream",
     "text": [
      "2207187.5414926386\n"
     ]
    }
   ],
   "source": [
    "# sets the initial value for sum_n = 0\n",
    "sum_n = 0\n",
    "\n",
    "# sets the value of sum_k as the sum of squared values of SigmaS vector\n",
    "SigmaSSquared = np.square(SigmaS) \n",
    "sum_k = np.sum(SigmaSSquared)\n",
    "\n",
    "print(sum_k)"
   ]
  },
  {
   "cell_type": "code",
   "execution_count": 48,
   "id": "79f8c21a-2a39-437d-8c2b-450baa0b1d4a",
   "metadata": {
    "tags": []
   },
   "outputs": [
    {
     "name": "stdout",
     "output_type": "stream",
     "text": [
      "12\n"
     ]
    }
   ],
   "source": [
    "# Finds the mininum value of n that satisfies (4) \n",
    "\n",
    "for n in range (S.shape[1] - 1):\n",
    "    sum_n += SigmaSSquared[n]\n",
    "    if (sum_n/sum_k >= 1 - e_s):\n",
    "        n_tra = n + 1\n",
    "        break\n",
    "        \n",
    "print(n_tra)"
   ]
  },
  {
   "cell_type": "code",
   "execution_count": 49,
   "id": "7e6a1e16-d286-467e-b09e-a955b2717f84",
   "metadata": {
    "tags": []
   },
   "outputs": [],
   "source": [
    "# Create V, using only the first n_tra columns of US\n",
    "\n",
    "V = US[:, :n_tra]"
   ]
  },
  {
   "cell_type": "code",
   "execution_count": 52,
   "id": "30c771d6-f79c-4046-8917-eb1cc150166f",
   "metadata": {
    "tags": []
   },
   "outputs": [],
   "source": [
    "# Determines n_qua\n",
    "n_qua = ((9 + 8*n_tra)**(1/2) - 3)/2\n",
    "n_qua = (1+zeta)*n_qua"
   ]
  },
  {
   "cell_type": "code",
   "execution_count": 51,
   "id": "94036429-85a4-49a3-a750-4662fed2fdcc",
   "metadata": {
    "tags": []
   },
   "outputs": [
    {
     "data": {
      "text/plain": [
       "4.166996690426768"
      ]
     },
     "execution_count": 51,
     "metadata": {},
     "output_type": "execute_result"
    }
   ],
   "source": [
    "n_qua"
   ]
  },
  {
   "cell_type": "code",
   "execution_count": 61,
   "id": "bc04e0dc-0c7a-4473-8b3e-03d620ef0aea",
   "metadata": {
    "tags": []
   },
   "outputs": [
    {
     "data": {
      "text/plain": [
       "4.166996690426768"
      ]
     },
     "execution_count": 61,
     "metadata": {},
     "output_type": "execute_result"
    }
   ],
   "source": [
    "# Determines n\n",
    "n = min(n_qua, ((1+8*Ns)**(1.2)-1)/2)\n",
    "n"
   ]
  },
  {
   "cell_type": "code",
   "execution_count": 62,
   "id": "89d18413-3eae-4000-b0f0-cecb3d8ee9f2",
   "metadata": {
    "tags": []
   },
   "outputs": [
    {
     "data": {
      "text/plain": [
       "5"
      ]
     },
     "execution_count": 62,
     "metadata": {},
     "output_type": "execute_result"
    }
   ],
   "source": [
    "# Rounds up n (is this correct?\n",
    "n = int(np.ceil(n))\n",
    "n"
   ]
  },
  {
   "cell_type": "code",
   "execution_count": 22,
   "id": "aa6d748b-7dce-4b18-adc3-a9b15a0a4ef4",
   "metadata": {
    "tags": []
   },
   "outputs": [],
   "source": [
    "# i was considering V as the right basis matrix, now switched to the paper algorithm \n",
    "#V = np.load('RightBasisMatrix.npy')\n",
    "#V.shape"
   ]
  },
  {
   "cell_type": "code",
   "execution_count": 80,
   "id": "db454620-18f1-48d0-895d-8c2c486bc3a1",
   "metadata": {
    "tags": []
   },
   "outputs": [
    {
     "data": {
      "text/plain": [
       "(9216, 5)"
      ]
     },
     "execution_count": 80,
     "metadata": {},
     "output_type": "execute_result"
    }
   ],
   "source": [
    "# Truncates V, s.t. V.shape = N x n (9126,5)\n",
    "# Maybe I should have used np.trunc ?\n",
    "\n",
    "V = V[:, :n]\n",
    "V.shape"
   ]
  },
  {
   "cell_type": "code",
   "execution_count": 82,
   "id": "0bd015e8-e18c-4d8a-a209-3c6c07650f2b",
   "metadata": {
    "tags": []
   },
   "outputs": [],
   "source": [
    "# Declare E, Q_ and H_\n",
    "\n",
    "E = np.empty((N,Ns))\n",
    "Q_ = np.empty((int(n*(n+1)/2), Ns))\n",
    "H_ = np.empty((N,int(n*(n+1)/2)))"
   ]
  },
  {
   "cell_type": "code",
   "execution_count": 67,
   "id": "b97a9817-39d0-42a1-817b-aa6ba0535cbb",
   "metadata": {
    "tags": []
   },
   "outputs": [
    {
     "name": "stdout",
     "output_type": "stream",
     "text": [
      "(9216, 450)\n",
      "(15, 450)\n",
      "(9216, 15)\n"
     ]
    }
   ],
   "source": [
    "print(E.shape)\n",
    "print(Q_.shape)\n",
    "print(H_.shape)"
   ]
  },
  {
   "cell_type": "code",
   "execution_count": 76,
   "id": "f4dc3f05-1bac-4b4d-a538-fdff7360be93",
   "metadata": {
    "tags": []
   },
   "outputs": [],
   "source": [
    "# Populates E and Q_\n",
    "\n",
    "for i in range(Ns):\n",
    "    qi = np.dot(V.T, S[:,i]) # Transpose necessary?\n",
    "    E[:,i] = S[:,i] - np.dot(V,qi) - u_ref # Transpose necessary?\n",
    "    Q_[:,i] = np.unique(np.kron(qi,qi)) # Is this the correct method?"
   ]
  },
  {
   "cell_type": "code",
   "execution_count": 78,
   "id": "52867fab-6d1c-4ac8-adb6-334f53736bc8",
   "metadata": {
    "tags": []
   },
   "outputs": [
    {
     "data": {
      "text/plain": [
       "(15, 450)"
      ]
     },
     "execution_count": 78,
     "metadata": {},
     "output_type": "execute_result"
    }
   ],
   "source": [
    "Q_.shape"
   ]
  },
  {
   "cell_type": "code",
   "execution_count": 73,
   "id": "b25c57b8-0dcd-4e6f-b9ba-03723db40607",
   "metadata": {
    "tags": []
   },
   "outputs": [],
   "source": [
    "# Thin SVD of Q_\n",
    "\n",
    "Uq_, Sigmaq_, Yq_ = np.linalg.svd(Q_, full_matrices=False)"
   ]
  },
  {
   "cell_type": "code",
   "execution_count": 84,
   "id": "1383f1d4-e86d-4351-94c0-b125dcb44f72",
   "metadata": {
    "tags": []
   },
   "outputs": [
    {
     "name": "stdout",
     "output_type": "stream",
     "text": [
      "(15, 15)\n",
      "(15,)\n",
      "(450, 15)\n"
     ]
    }
   ],
   "source": [
    "# Checking if shapes have the correct shape\n",
    "print(Uq_.shape)\n",
    "print(Sigmaq_.shape)\n",
    "print(Yq_.T.shape)"
   ]
  },
  {
   "cell_type": "code",
   "execution_count": 30,
   "id": "505713f5-afe1-4105-9a02-980b9be30eb6",
   "metadata": {
    "tags": []
   },
   "outputs": [],
   "source": [
    "# alpha_best not specified, so:"
   ]
  },
  {
   "cell_type": "code",
   "execution_count": 91,
   "id": "a85e61eb-fd64-4319-b1b3-c29ac3d4acac",
   "metadata": {},
   "outputs": [],
   "source": [
    "# Declares alpha_best and an empry array of size N\n",
    "alpha_best = np.empty(N)"
   ]
  },
  {
   "cell_type": "code",
   "execution_count": 92,
   "id": "33646973-773e-4218-985c-a1489dc588e8",
   "metadata": {
    "tags": []
   },
   "outputs": [
    {
     "name": "stdout",
     "output_type": "stream",
     "text": [
      "15\n"
     ]
    },
    {
     "data": {
      "text/plain": [
       "2"
      ]
     },
     "execution_count": 92,
     "metadata": {},
     "output_type": "execute_result"
    }
   ],
   "source": [
    "# Calculates nsamp\n",
    "\n",
    "Nq = Sigmaq_.shape[0]\n",
    "print(Nq)\n",
    "nsamp = int(np.ceil(omega*Nq))\n",
    "nsamp"
   ]
  },
  {
   "cell_type": "code",
   "execution_count": 94,
   "id": "571cd823-2aaa-44d9-b14d-528c9e359658",
   "metadata": {},
   "outputs": [],
   "source": [
    "# Creates and populates alpha_samp\n",
    "\n",
    "alpha_samp = np.logspace(Sigmaq_[Nq-1], Sigmaq_[1], nsamp) # Not sure if this is the correct implementation uniformly distribution in log scale, from the maximum to the minimum singular value of Q_"
   ]
  },
  {
   "cell_type": "code",
   "execution_count": 95,
   "id": "8a4c2398-d21d-4943-b05e-e949f02e44f2",
   "metadata": {
    "tags": []
   },
   "outputs": [
    {
     "data": {
      "text/plain": [
       "(2,)"
      ]
     },
     "execution_count": 95,
     "metadata": {},
     "output_type": "execute_result"
    }
   ],
   "source": [
    "alpha_samp.shape"
   ]
  },
  {
   "cell_type": "code",
   "execution_count": 96,
   "id": "28e6e71a-4cec-434c-bdab-f534afa15a83",
   "metadata": {
    "tags": []
   },
   "outputs": [
    {
     "name": "stdout",
     "output_type": "stream",
     "text": [
      "0\n",
      "[4.18906533e+27]\n"
     ]
    }
   ],
   "source": [
    "# Uses GCV (TO BE IMPLEMENTED) to determine the best regularization parameters\n",
    "\n",
    "for i in range(N):\n",
    "    G = np.empty(nsamp)\n",
    "    for k in range(nsamp):\n",
    "        G[k] = alpha_samp[k] #TODO: implement the GCV function\n",
    "    alpha_best[i] = np.amin(G)\n",
    "\n",
    "values, counts = np.unique(alpha_best[i], return_counts=True)\n",
    "ind = np.argmax(counts)\n",
    "\n",
    "alpha_star = values[ind] # GCV function not implemented\n",
    "\n",
    "print(ind)\n",
    "print(values)"
   ]
  },
  {
   "cell_type": "code",
   "execution_count": 99,
   "id": "051618aa-3403-4726-aeb1-c13faa657d2a",
   "metadata": {
    "tags": []
   },
   "outputs": [
    {
     "name": "stdout",
     "output_type": "stream",
     "text": [
      "(9216, 15)\n",
      "(15,)\n"
     ]
    }
   ],
   "source": [
    "# Calculates h_i and inputs it to H_, line by line\n",
    "\n",
    "for i in range(N):\n",
    "    h_i = 0\n",
    "    for l in range(Nq):\n",
    "        h_i += ((Sigmaq_[l]**2)/(Sigmaq_[l]**2 + alpha_star**2))*np.dot((np.dot(Yq_[l].T,E[l,:].T)/Sigmaq_[l]),Uq_[l])\n",
    "    H_[i,:] = h_i\n",
    "    \n",
    "print(H_.shape)\n",
    "print(h_i.shape)\n",
    "    "
   ]
  },
  {
   "cell_type": "code",
   "execution_count": 100,
   "id": "fffad3a5-b300-4fa3-ace2-adf57e968603",
   "metadata": {
    "tags": []
   },
   "outputs": [
    {
     "name": "stdout",
     "output_type": "stream",
     "text": [
      "[[-2.01538000e-58 -3.96296135e-57 -1.99923957e-56 ... -1.55046429e-54\n",
      "  -8.13793179e-55  9.95870400e-55]\n",
      " [-2.01538000e-58 -3.96296135e-57 -1.99923957e-56 ... -1.55046429e-54\n",
      "  -8.13793179e-55  9.95870400e-55]\n",
      " [-2.01538000e-58 -3.96296135e-57 -1.99923957e-56 ... -1.55046429e-54\n",
      "  -8.13793179e-55  9.95870400e-55]\n",
      " ...\n",
      " [-2.01538000e-58 -3.96296135e-57 -1.99923957e-56 ... -1.55046429e-54\n",
      "  -8.13793179e-55  9.95870400e-55]\n",
      " [-2.01538000e-58 -3.96296135e-57 -1.99923957e-56 ... -1.55046429e-54\n",
      "  -8.13793179e-55  9.95870400e-55]\n",
      " [-2.01538000e-58 -3.96296135e-57 -1.99923957e-56 ... -1.55046429e-54\n",
      "  -8.13793179e-55  9.95870400e-55]]\n"
     ]
    }
   ],
   "source": [
    "print(H_)"
   ]
  }
 ],
 "metadata": {
  "kernelspec": {
   "display_name": "Python 3 (ipykernel)",
   "language": "python",
   "name": "python3"
  },
  "language_info": {
   "codemirror_mode": {
    "name": "ipython",
    "version": 3
   },
   "file_extension": ".py",
   "mimetype": "text/x-python",
   "name": "python",
   "nbconvert_exporter": "python",
   "pygments_lexer": "ipython3",
   "version": "3.11.3"
  }
 },
 "nbformat": 4,
 "nbformat_minor": 5
}
