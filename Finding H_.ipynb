{
 "cells": [
  {
   "cell_type": "markdown",
   "id": "1f82f16f-9454-43f2-8d54-3432813005e4",
   "metadata": {},
   "source": [
    "## Import modules"
   ]
  },
  {
   "cell_type": "code",
   "execution_count": 1,
   "id": "1d955e92-f7af-4a7c-b609-a09aa720e533",
   "metadata": {
    "tags": []
   },
   "outputs": [],
   "source": [
    "import numpy as np\n",
    "import matplotlib.pyplot as plt\n",
    "    \n",
    "from sklearn.linear_model import RidgeCV # maybe used for GCV, as per the documentation"
   ]
  },
  {
   "cell_type": "markdown",
   "id": "ffc0df9d-f783-425b-ae41-87b1c01a0c81",
   "metadata": {},
   "source": [
    "## Algorithm\n",
    "\n",
    "**Input**: \n",
    "\n",
    "- S = Solution snaptshot matrix S (NxNs)\n",
    "- e_s = Tolerance\n",
    "- zeta = Correction factor\n",
    "- param = Regularization parameter alpha* or parameter w\n",
    "- u_ref = Reference solution"
   ]
  },
  {
   "cell_type": "code",
   "execution_count": 2,
   "id": "9ac60e73-95b4-4741-9c93-f0e64428bf49",
   "metadata": {
    "tags": []
   },
   "outputs": [],
   "source": [
    "# Loads the FOM Snapshots as the matrix S\n",
    "S = np.load('fom_snapshots.npy')"
   ]
  },
  {
   "cell_type": "code",
   "execution_count": 3,
   "id": "d9677152-5dc9-4241-80b7-a4219a291381",
   "metadata": {
    "tags": []
   },
   "outputs": [
    {
     "data": {
      "text/plain": [
       "(9216, 450)"
      ]
     },
     "execution_count": 3,
     "metadata": {},
     "output_type": "execute_result"
    }
   ],
   "source": [
    "S.shape\n",
    "# N = 9216\n",
    "# Ns = 450"
   ]
  },
  {
   "cell_type": "code",
   "execution_count": 4,
   "id": "15c3bf95-3f61-4e90-ba77-6c56b52ce21d",
   "metadata": {
    "tags": []
   },
   "outputs": [],
   "source": [
    "N = S.shape[0] \n",
    "Ns = S.shape[1]"
   ]
  },
  {
   "cell_type": "code",
   "execution_count": 5,
   "id": "e20843b7-79f4-450d-a02d-963635ed66f0",
   "metadata": {
    "tags": []
   },
   "outputs": [],
   "source": [
    "e_s = 1e-6 # used 1e-6 to get a smaller n_tra. Tried 1e-7, but then Ns > n(n+1)/2 wouldn't verify"
   ]
  },
  {
   "cell_type": "code",
   "execution_count": 6,
   "id": "8436c8d0-0ebb-4d57-87a1-93551ac0230e",
   "metadata": {
    "tags": []
   },
   "outputs": [],
   "source": [
    "zeta = 0.15 # following the paper"
   ]
  },
  {
   "cell_type": "code",
   "execution_count": 7,
   "id": "d23642ef-0913-4a40-8e0a-e1910678ebac",
   "metadata": {
    "tags": []
   },
   "outputs": [],
   "source": [
    "omega = 0.3 # the paper uses 0.1. Changed to 0.3 to make some tests regarding alpha_star"
   ]
  },
  {
   "cell_type": "code",
   "execution_count": 8,
   "id": "bd75f204-2aca-4977-8234-7846b56fd4df",
   "metadata": {
    "tags": []
   },
   "outputs": [],
   "source": [
    "u_ref = 0 # referece solution would be u(0) = 0"
   ]
  },
  {
   "cell_type": "code",
   "execution_count": 9,
   "id": "ba533ae4-5d06-450a-91e7-4009a6fa9546",
   "metadata": {
    "tags": []
   },
   "outputs": [],
   "source": [
    "# Thin SVD of S\n",
    "Us, SigmaS, YsT = np.linalg.svd(S, full_matrices=False)"
   ]
  },
  {
   "cell_type": "code",
   "execution_count": 10,
   "id": "8d6c0a3c-be36-448e-adc0-41af1644aab9",
   "metadata": {
    "tags": []
   },
   "outputs": [
    {
     "data": {
      "text/plain": [
       "(9216, 450)"
      ]
     },
     "execution_count": 10,
     "metadata": {},
     "output_type": "execute_result"
    }
   ],
   "source": [
    "Us.shape"
   ]
  },
  {
   "cell_type": "code",
   "execution_count": 11,
   "id": "a87a1b04-3ab1-46f8-b131-e91a7355ce25",
   "metadata": {
    "tags": []
   },
   "outputs": [
    {
     "data": {
      "text/plain": [
       "(450,)"
      ]
     },
     "execution_count": 11,
     "metadata": {},
     "output_type": "execute_result"
    }
   ],
   "source": [
    "SigmaS.shape"
   ]
  },
  {
   "cell_type": "code",
   "execution_count": 12,
   "id": "7f3a44ff-3f0a-4b90-a6d7-eecb13f501a2",
   "metadata": {
    "tags": []
   },
   "outputs": [
    {
     "data": {
      "text/plain": [
       "(450, 450)"
      ]
     },
     "execution_count": 12,
     "metadata": {},
     "output_type": "execute_result"
    }
   ],
   "source": [
    "YsT.shape"
   ]
  },
  {
   "cell_type": "code",
   "execution_count": 13,
   "id": "db5e7515-4a0a-40e9-8b1c-426c5ab03fc6",
   "metadata": {
    "tags": []
   },
   "outputs": [
    {
     "name": "stdout",
     "output_type": "stream",
     "text": [
      "2207187.5414926386\n"
     ]
    }
   ],
   "source": [
    "# sets the initial value for sum_n = 0\n",
    "sum_n = 0\n",
    "\n",
    "# sets the value of sum_k as the sum of squared values of SigmaS vector\n",
    "SigmaSSquared = np.square(SigmaS) \n",
    "sum_k = np.sum(SigmaSSquared)\n",
    "\n",
    "print(sum_k)"
   ]
  },
  {
   "cell_type": "code",
   "execution_count": 14,
   "id": "79f8c21a-2a39-437d-8c2b-450baa0b1d4a",
   "metadata": {
    "tags": []
   },
   "outputs": [
    {
     "name": "stdout",
     "output_type": "stream",
     "text": [
      "31\n"
     ]
    }
   ],
   "source": [
    "# Finds the minimum value of n that satisfies (4) \n",
    "\n",
    "for n in range (S.shape[1] - 1):\n",
    "    sum_n += SigmaSSquared[n]\n",
    "    if (sum_n/sum_k >= 1 - e_s):\n",
    "        n_tra = n + 1\n",
    "        break\n",
    "        \n",
    "print(n_tra)"
   ]
  },
  {
   "cell_type": "code",
   "execution_count": 15,
   "id": "7e6a1e16-d286-467e-b09e-a955b2717f84",
   "metadata": {
    "tags": []
   },
   "outputs": [],
   "source": [
    "# Create V, using only the first n_tra columns of US\n",
    "\n",
    "V = Us[:, :n_tra]"
   ]
  },
  {
   "cell_type": "code",
   "execution_count": 16,
   "id": "30c771d6-f79c-4046-8917-eb1cc150166f",
   "metadata": {
    "tags": []
   },
   "outputs": [],
   "source": [
    "# Determines n_qua\n",
    "n_qua = ((9 + 8*n_tra)**(1/2) - 3)/2\n",
    "n_qua = (1+zeta)*n_qua"
   ]
  },
  {
   "cell_type": "code",
   "execution_count": 17,
   "id": "94036429-85a4-49a3-a750-4662fed2fdcc",
   "metadata": {
    "tags": []
   },
   "outputs": [
    {
     "data": {
      "text/plain": [
       "7.492951236581804"
      ]
     },
     "execution_count": 17,
     "metadata": {},
     "output_type": "execute_result"
    }
   ],
   "source": [
    "n_qua"
   ]
  },
  {
   "cell_type": "code",
   "execution_count": 18,
   "id": "6ee37a76-c824-4f79-9bb7-d4e602f34b59",
   "metadata": {
    "tags": []
   },
   "outputs": [
    {
     "data": {
      "text/plain": [
       "29.504166377354995"
      ]
     },
     "execution_count": 18,
     "metadata": {},
     "output_type": "execute_result"
    }
   ],
   "source": [
    "((1+8*Ns)**(1/2)-1)/2"
   ]
  },
  {
   "cell_type": "code",
   "execution_count": 19,
   "id": "bc04e0dc-0c7a-4473-8b3e-03d620ef0aea",
   "metadata": {
    "tags": []
   },
   "outputs": [
    {
     "data": {
      "text/plain": [
       "7.492951236581804"
      ]
     },
     "execution_count": 19,
     "metadata": {},
     "output_type": "execute_result"
    }
   ],
   "source": [
    "# Determines n\n",
    "n = min(n_qua, ((1+8*Ns)**(1/2)-1)/2)\n",
    "n"
   ]
  },
  {
   "cell_type": "code",
   "execution_count": 20,
   "id": "89d18413-3eae-4000-b0f0-cecb3d8ee9f2",
   "metadata": {
    "tags": []
   },
   "outputs": [
    {
     "data": {
      "text/plain": [
       "8"
      ]
     },
     "execution_count": 20,
     "metadata": {},
     "output_type": "execute_result"
    }
   ],
   "source": [
    "# Rounds up n\n",
    "n = int(np.ceil(n))\n",
    "n"
   ]
  },
  {
   "cell_type": "code",
   "execution_count": 21,
   "id": "fc799355-f693-42b7-9491-d0cf4fabcde1",
   "metadata": {
    "tags": []
   },
   "outputs": [],
   "source": [
    "###############################################################"
   ]
  },
  {
   "cell_type": "code",
   "execution_count": 22,
   "id": "db454620-18f1-48d0-895d-8c2c486bc3a1",
   "metadata": {
    "tags": []
   },
   "outputs": [
    {
     "data": {
      "text/plain": [
       "(9216, 8)"
      ]
     },
     "execution_count": 22,
     "metadata": {},
     "output_type": "execute_result"
    }
   ],
   "source": [
    "# Truncates V, s.t. V.shape = N x n \n",
    "# Maybe I should have used np.trunc ? Otherwise wouldn't make sense to have created V with n_tra columns earlier\n",
    "\n",
    "V = V[:, :n]\n",
    "V.shape"
   ]
  },
  {
   "cell_type": "code",
   "execution_count": 23,
   "id": "62af02b3-87fc-488a-a57c-2bba968b6f3a",
   "metadata": {
    "tags": []
   },
   "outputs": [],
   "source": [
    "###############################################################"
   ]
  },
  {
   "cell_type": "code",
   "execution_count": 24,
   "id": "0bd015e8-e18c-4d8a-a209-3c6c07650f2b",
   "metadata": {
    "tags": []
   },
   "outputs": [],
   "source": [
    "# Declare E, Q_ and H_\n",
    "\n",
    "E = np.empty((N,Ns))\n",
    "Q_ = np.empty((int(n*(n+1)/2), Ns))\n",
    "H_ = np.empty((N,int(n*(n+1)/2)))"
   ]
  },
  {
   "cell_type": "code",
   "execution_count": 25,
   "id": "b97a9817-39d0-42a1-817b-aa6ba0535cbb",
   "metadata": {
    "tags": []
   },
   "outputs": [
    {
     "name": "stdout",
     "output_type": "stream",
     "text": [
      "(9216, 450)\n",
      "(36, 450)\n",
      "(9216, 36)\n"
     ]
    }
   ],
   "source": [
    "print(E.shape)\n",
    "print(Q_.shape)\n",
    "print(H_.shape)"
   ]
  },
  {
   "cell_type": "code",
   "execution_count": 26,
   "id": "f4dc3f05-1bac-4b4d-a538-fdff7360be93",
   "metadata": {
    "tags": []
   },
   "outputs": [],
   "source": [
    "# Populates E and Q_\n",
    "\n",
    "for i in range(Ns):\n",
    "    qi = np.dot(V.T, S[:,i])\n",
    "    E[:,i] = S[:,i] - np.dot(V,qi) - u_ref\n",
    "    Q_[:,i] = np.unique(np.kron(qi,qi))"
   ]
  },
  {
   "cell_type": "code",
   "execution_count": 27,
   "id": "52867fab-6d1c-4ac8-adb6-334f53736bc8",
   "metadata": {
    "tags": []
   },
   "outputs": [
    {
     "data": {
      "text/plain": [
       "(36, 450)"
      ]
     },
     "execution_count": 27,
     "metadata": {},
     "output_type": "execute_result"
    }
   ],
   "source": [
    "Q_.shape"
   ]
  },
  {
   "cell_type": "code",
   "execution_count": 28,
   "id": "b25c57b8-0dcd-4e6f-b9ba-03723db40607",
   "metadata": {
    "tags": []
   },
   "outputs": [],
   "source": [
    "# Thin SVD of Q_\n",
    "\n",
    "Uq_, Sigmaq_, Yq_T = np.linalg.svd(Q_, full_matrices=False)"
   ]
  },
  {
   "cell_type": "code",
   "execution_count": 29,
   "id": "1383f1d4-e86d-4351-94c0-b125dcb44f72",
   "metadata": {
    "tags": []
   },
   "outputs": [
    {
     "name": "stdout",
     "output_type": "stream",
     "text": [
      "(36, 36)\n",
      "(36,)\n",
      "(36, 450)\n"
     ]
    }
   ],
   "source": [
    "# Checking if shapes have the correct shape\n",
    "print(Uq_.shape)\n",
    "print(Sigmaq_.shape)\n",
    "print(Yq_T.shape)"
   ]
  },
  {
   "cell_type": "code",
   "execution_count": 30,
   "id": "505713f5-afe1-4105-9a02-980b9be30eb6",
   "metadata": {
    "tags": []
   },
   "outputs": [],
   "source": [
    "# alpha_star not specified, so:"
   ]
  },
  {
   "cell_type": "code",
   "execution_count": 31,
   "id": "a85e61eb-fd64-4319-b1b3-c29ac3d4acac",
   "metadata": {},
   "outputs": [],
   "source": [
    "# Declares alpha_best and an empry array of size N\n",
    "alpha_best = np.empty(N)"
   ]
  },
  {
   "cell_type": "code",
   "execution_count": 32,
   "id": "33646973-773e-4218-985c-a1489dc588e8",
   "metadata": {
    "tags": []
   },
   "outputs": [
    {
     "name": "stdout",
     "output_type": "stream",
     "text": [
      "36\n"
     ]
    },
    {
     "data": {
      "text/plain": [
       "11"
      ]
     },
     "execution_count": 32,
     "metadata": {},
     "output_type": "execute_result"
    }
   ],
   "source": [
    "# Calculates number of samples (n_samp) using omega and Nq. This is the number of alphas that will be part of the vector alpha_samp\n",
    "\n",
    "Nq = Sigmaq_.shape[0]\n",
    "print(Nq)\n",
    "n_samp = int(np.ceil(omega*Nq))\n",
    "n_samp"
   ]
  },
  {
   "cell_type": "code",
   "execution_count": 33,
   "id": "571cd823-2aaa-44d9-b14d-528c9e359658",
   "metadata": {},
   "outputs": [],
   "source": [
    "# Creates and populates alpha_samp\n",
    "\n",
    "alpha_samp = np.geomspace(Sigmaq_[Nq-1], Sigmaq_[0], n_samp) # Changed logspace to geomspace so I could specify the boundaries using absolute number (logspace uses base10)"
   ]
  },
  {
   "cell_type": "code",
   "execution_count": 34,
   "id": "12cde586-e16f-4250-a20d-14f60abb287b",
   "metadata": {
    "tags": []
   },
   "outputs": [
    {
     "data": {
      "text/plain": [
       "(11,)"
      ]
     },
     "execution_count": 34,
     "metadata": {},
     "output_type": "execute_result"
    }
   ],
   "source": [
    "alpha_samp.shape"
   ]
  },
  {
   "cell_type": "code",
   "execution_count": 35,
   "id": "de279bc2-9a60-44af-a5a1-81456d691977",
   "metadata": {
    "tags": []
   },
   "outputs": [
    {
     "name": "stdout",
     "output_type": "stream",
     "text": [
      "[2.43360465e+05 1.83643861e+04 7.49524657e+03 2.28668211e+03\n",
      " 1.52314996e+03 1.23354500e+03 8.80564674e+02 4.83591050e+02\n",
      " 4.28665915e+02 2.17796756e+02 1.53248340e+02 1.05293717e+02\n",
      " 9.33636545e+01 7.01141870e+01 5.43861350e+01 4.88087662e+01\n",
      " 4.23706733e+01 3.28692838e+01 1.91122467e+01 1.83321684e+01\n",
      " 1.61272977e+01 1.22172030e+01 8.39559283e+00 5.88348071e+00\n",
      " 5.34092165e+00 5.25593787e+00 4.10511202e+00 2.96334702e+00\n",
      " 2.93541616e+00 2.34978575e+00 1.75694686e+00 1.43710252e+00\n",
      " 1.29016821e+00 9.89040855e-01 8.53112032e-01 7.10198329e-01]\n"
     ]
    }
   ],
   "source": [
    "print(Sigmaq_)"
   ]
  },
  {
   "cell_type": "code",
   "execution_count": 36,
   "id": "8a4c2398-d21d-4943-b05e-e949f02e44f2",
   "metadata": {
    "tags": []
   },
   "outputs": [
    {
     "name": "stdout",
     "output_type": "stream",
     "text": [
      "0.7101983294268509\n",
      "243360.46549225601\n"
     ]
    }
   ],
   "source": [
    "print(Sigmaq_[Nq-1])\n",
    "print(Sigmaq_[0])"
   ]
  },
  {
   "cell_type": "code",
   "execution_count": 37,
   "id": "179c882b-0940-4639-aef1-e1f41ced9049",
   "metadata": {
    "tags": []
   },
   "outputs": [
    {
     "name": "stdout",
     "output_type": "stream",
     "text": [
      "[7.10198329e-01 2.54019282e+00 9.08560230e+00 3.24968122e+01\n",
      " 1.16232559e+02 4.15733323e+02 1.48696886e+03 5.31849693e+03\n",
      " 1.90228661e+04 6.80397939e+04 2.43360465e+05]\n"
     ]
    }
   ],
   "source": [
    "print(alpha_samp)"
   ]
  },
  {
   "cell_type": "code",
   "execution_count": 38,
   "id": "885c18b0-bfa6-4ebb-b99c-deba31bc17d7",
   "metadata": {
    "tags": []
   },
   "outputs": [],
   "source": [
    "####################################################################"
   ]
  },
  {
   "cell_type": "code",
   "execution_count": null,
   "id": "188d47ed-9b0e-47e6-8e9c-215bcba8dba0",
   "metadata": {},
   "outputs": [],
   "source": []
  },
  {
   "cell_type": "code",
   "execution_count": 39,
   "id": "3fd3cc3b-c588-4a18-8410-215005cf083d",
   "metadata": {
    "tags": []
   },
   "outputs": [],
   "source": [
    "def ridge_cv(X, y, alphas):\n",
    "    \"\"\"\n",
    "    Performs Ridge regression with cross-validation to find the optimal regularization\n",
    "    parameter alpha using scikit-learn's RidgeCV method.\n",
    "    \n",
    "    Parameters:\n",
    "    X (array-like, shape (n_samples, n_features)): Training data.\n",
    "    y (array-like, shape (n_samples,)): Target values.\n",
    "    alphas (array-like): List of regularization parameters to test.\n",
    "    \n",
    "    Returns:\n",
    "    alpha_opt (float): Optimal regularization parameter.\n",
    "    \"\"\"\n",
    "    ridge_cv = RidgeCV(alphas=alphas)\n",
    "    ridge_cv.fit(X, y)\n",
    "    alpha_opt = ridge_cv.alpha_\n",
    "    \n",
    "    return alpha_opt"
   ]
  },
  {
   "cell_type": "code",
   "execution_count": null,
   "id": "f8849f33-b5a2-4c82-8435-4d06e7e5b63a",
   "metadata": {},
   "outputs": [],
   "source": []
  },
  {
   "cell_type": "code",
   "execution_count": 40,
   "id": "06803dbc-939d-4657-aafb-aaba97c3e870",
   "metadata": {
    "tags": []
   },
   "outputs": [],
   "source": [
    "####################################################################"
   ]
  },
  {
   "cell_type": "code",
   "execution_count": 41,
   "id": "28e6e71a-4cec-434c-bdab-f534afa15a83",
   "metadata": {
    "tags": []
   },
   "outputs": [
    {
     "name": "stdout",
     "output_type": "stream",
     "text": [
      "0.7101983294268509\n"
     ]
    },
    {
     "name": "stderr",
     "output_type": "stream",
     "text": [
      "/tmp/ipykernel_43596/3013548408.py:23: FutureWarning: Unlike other reduction functions (e.g. `skew`, `kurtosis`), the default behavior of `mode` typically preserves the axis it acts along. In SciPy 1.11.0, this behavior will change: the default value of `keepdims` will become False, the `axis` over which the statistic is taken will be eliminated, and the value None will no longer be accepted. Set `keepdims` to True or False to avoid this warning.\n",
      "  alpha_star = stats.mode(alpha_best)[0][0]\n"
     ]
    }
   ],
   "source": [
    "# Uses GCV (ridge_cv) to determine the best regularization parameters\n",
    "\n",
    "from scipy import stats\n",
    "from IPython.display import clear_output\n",
    "\n",
    "for i in range(N):\n",
    "    print(i, \"of\", N) # Just to check how fast it is going\n",
    "    G = np.empty(n_samp)\n",
    "    for k in range(n_samp):\n",
    "        G[k] = ridge_cv(Yq_T , Q_.T[k], alpha_samp) # Maybe Training/Target data are wrong\n",
    "    alpha_best[i] = np.amin(G)\n",
    "    clear_output(wait=True) # Clears output so only one line of jupyter lab is used to show progress status\n",
    "\n",
    "###### old code ######\n",
    "#values, counts = np.unique(alpha_best[i], return_counts=True)\n",
    "#ind = np.argmax(counts)\n",
    "\n",
    "#alpha_star = values[ind] # GCV function not implemented\n",
    "###### old code ######\n",
    "\n",
    "\n",
    "# Used mode to get the most common argument at the array\n",
    "alpha_star = stats.mode(alpha_best)[0][0]\n",
    "\n",
    "###### old code ######\n",
    "#print(ind)\n",
    "#print(values)\n",
    "###### old code ######\n",
    "\n",
    "print(alpha_star)"
   ]
  },
  {
   "cell_type": "code",
   "execution_count": 42,
   "id": "39c15b5a-3e20-4d46-9dee-5b456a5ec7dc",
   "metadata": {},
   "outputs": [
    {
     "data": {
      "text/plain": [
       "' Regarding the GCV funcion:\\n\\n1. I tried calling it using (Us, S.T[k], alpha_samp), which is the data from the first SVD. This seems more accurate, since it uses the fom_snapshot as training data\\n2. It worked, but was way to expensive (~30% of the loop had been processede after about three hours)\\n3. Also, I was printing the results, and all lines of G were exactly the same, so something odd was happening here (maybe n_samp is too low?)\\n4. Switched the input data to (Yq_T, Q_.T[k], alpha_samp), which is the data from the second SVD. Now it runs way faster! Took about 15 minutes to run on my laptop.\\n5. Interestingly, the numerical values of G are the same that I was getting in the first run.\\n6. Before we can proceed to testing if H is indeed correct, I think it would be nice to check if the input data of the GCV function makes sense\\n7. If so, we are ready to test H\\n'"
      ]
     },
     "execution_count": 42,
     "metadata": {},
     "output_type": "execute_result"
    }
   ],
   "source": [
    "#######################################################################\n",
    "''' Regarding the GCV funcion:\n",
    "\n",
    "1. I tried calling it using (Us, S.T[k], alpha_samp), which is the data from the first SVD. This seems more accurate, since it uses the fom_snapshot as training data\n",
    "2. It worked, but was way to expensive (~30% of the loop had been processede after about three hours)\n",
    "3. Also, I was printing the results, and all lines of G were exactly the same, so something odd was happening here (maybe n_samp is too low?)\n",
    "4. Switched the input data to (Yq_T, Q_.T[k], alpha_samp), which is the data from the second SVD. Now it runs way faster! Took about 15 minutes to run on my laptop.\n",
    "5. Interestingly, the numerical values of G are the same that I was getting in the first run.\n",
    "6. Before we can proceed to testing if H is indeed correct, I think it would be nice to check if the input data of the GCV function makes sense\n",
    "7. If so, we are ready to test H\n",
    "'''"
   ]
  },
  {
   "cell_type": "code",
   "execution_count": 43,
   "id": "051618aa-3403-4726-aeb1-c13faa657d2a",
   "metadata": {
    "tags": []
   },
   "outputs": [
    {
     "name": "stdout",
     "output_type": "stream",
     "text": [
      "(9216, 36)\n",
      "(36,)\n"
     ]
    }
   ],
   "source": [
    "# Calculates h_i and inputs it to H_, line by line\n",
    "\n",
    "for i in range(N):\n",
    "    h_i = 0\n",
    "    for l in range(Nq):\n",
    "        h_i += ((Sigmaq_[l]**2)/(Sigmaq_[l]**2 + alpha_star**2))*np.dot((np.dot(Yq_T[l],E[l,:].T)/Sigmaq_[l]),Uq_[l])\n",
    "    H_[i,:] = h_i\n",
    "    \n",
    "print(H_.shape)\n",
    "print(h_i.shape)\n",
    "    "
   ]
  },
  {
   "cell_type": "code",
   "execution_count": 44,
   "id": "fffad3a5-b300-4fa3-ace2-adf57e968603",
   "metadata": {
    "tags": []
   },
   "outputs": [
    {
     "name": "stdout",
     "output_type": "stream",
     "text": [
      "[[ 0.00142634  0.00257235 -0.00029587 ... -0.00049298  0.00067194\n",
      "  -0.00038014]\n",
      " [ 0.00142634  0.00257235 -0.00029587 ... -0.00049298  0.00067194\n",
      "  -0.00038014]\n",
      " [ 0.00142634  0.00257235 -0.00029587 ... -0.00049298  0.00067194\n",
      "  -0.00038014]\n",
      " ...\n",
      " [ 0.00142634  0.00257235 -0.00029587 ... -0.00049298  0.00067194\n",
      "  -0.00038014]\n",
      " [ 0.00142634  0.00257235 -0.00029587 ... -0.00049298  0.00067194\n",
      "  -0.00038014]\n",
      " [ 0.00142634  0.00257235 -0.00029587 ... -0.00049298  0.00067194\n",
      "  -0.00038014]]\n"
     ]
    }
   ],
   "source": [
    "print(H_) # all lines are the same, ?"
   ]
  },
  {
   "cell_type": "code",
   "execution_count": 47,
   "id": "048558b6-b5b5-416e-8f06-b4b2b1f1a181",
   "metadata": {
    "tags": []
   },
   "outputs": [],
   "source": [
    "# Recomposing S"
   ]
  },
  {
   "cell_type": "code",
   "execution_count": 46,
   "id": "bc08e374-e4f3-40b6-a844-11e186bcc5e8",
   "metadata": {
    "tags": []
   },
   "outputs": [
    {
     "data": {
      "text/plain": [
       "'\\nS = [s_1,s_2,...,s_n]\\nS=U S V^T\\ns_1 \\x07pprox U@U^T@s_1\\nq_1 = U^T@s_1\\nsuch that:\\ns_1 \\x07pprox H(q_1\\\\kron q_1) + Uq_1\\n'"
      ]
     },
     "execution_count": 46,
     "metadata": {},
     "output_type": "execute_result"
    }
   ],
   "source": [
    "'''\n",
    "S = [s_1,s_2,...,s_n]\n",
    "S=U S V^T\n",
    "s_1 \\approx U@U^T@s_1\n",
    "q_1 = U^T@s_1\n",
    "such that:\n",
    "s_1 \\approx H(q_1\\kron q_1) + Uq_1\n",
    "'''"
   ]
  },
  {
   "cell_type": "code",
   "execution_count": null,
   "id": "d12a79ab-d839-4fbd-b0e1-8925ad246ef9",
   "metadata": {},
   "outputs": [],
   "source": []
  }
 ],
 "metadata": {
  "kernelspec": {
   "display_name": "Python 3 (ipykernel)",
   "language": "python",
   "name": "python3"
  },
  "language_info": {
   "codemirror_mode": {
    "name": "ipython",
    "version": 3
   },
   "file_extension": ".py",
   "mimetype": "text/x-python",
   "name": "python",
   "nbconvert_exporter": "python",
   "pygments_lexer": "ipython3",
   "version": "3.11.3"
  }
 },
 "nbformat": 4,
 "nbformat_minor": 5
}
